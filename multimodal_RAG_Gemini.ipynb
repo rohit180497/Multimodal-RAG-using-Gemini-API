{
  "cells": [
    {
      "cell_type": "code",
      "execution_count": 1,
      "metadata": {
        "colab": {
          "base_uri": "https://localhost:8080/"
        },
        "id": "X6JBhKxjS06v",
        "outputId": "b52a59c1-b276-4e1b-d884-aea81047cb06"
      },
      "outputs": [
        {
          "output_type": "stream",
          "name": "stdout",
          "text": [
            "Reading package lists... Done\n",
            "Building dependency tree... Done\n",
            "Reading state information... Done\n",
            "The following additional packages will be installed:\n",
            "  libarchive-dev libleptonica-dev tesseract-ocr-eng tesseract-ocr-osd\n",
            "The following NEW packages will be installed:\n",
            "  libarchive-dev libleptonica-dev libtesseract-dev tesseract-ocr tesseract-ocr-eng\n",
            "  tesseract-ocr-osd\n",
            "0 upgraded, 6 newly installed, 0 to remove and 45 not upgraded.\n",
            "Need to get 8,560 kB of archives.\n",
            "After this operation, 31.6 MB of additional disk space will be used.\n",
            "Get:1 http://archive.ubuntu.com/ubuntu jammy-updates/main amd64 libarchive-dev amd64 3.6.0-1ubuntu1.1 [582 kB]\n",
            "Get:2 http://archive.ubuntu.com/ubuntu jammy/universe amd64 libleptonica-dev amd64 1.82.0-3build1 [1,562 kB]\n",
            "Get:3 http://archive.ubuntu.com/ubuntu jammy/universe amd64 libtesseract-dev amd64 4.1.1-2.1build1 [1,600 kB]\n",
            "Get:4 http://archive.ubuntu.com/ubuntu jammy/universe amd64 tesseract-ocr-eng all 1:4.00~git30-7274cfa-1.1 [1,591 kB]\n",
            "Get:5 http://archive.ubuntu.com/ubuntu jammy/universe amd64 tesseract-ocr-osd all 1:4.00~git30-7274cfa-1.1 [2,990 kB]\n",
            "Get:6 http://archive.ubuntu.com/ubuntu jammy/universe amd64 tesseract-ocr amd64 4.1.1-2.1build1 [236 kB]\n",
            "Fetched 8,560 kB in 2s (5,393 kB/s)\n",
            "Selecting previously unselected package libarchive-dev:amd64.\n",
            "(Reading database ... 123586 files and directories currently installed.)\n",
            "Preparing to unpack .../0-libarchive-dev_3.6.0-1ubuntu1.1_amd64.deb ...\n",
            "Unpacking libarchive-dev:amd64 (3.6.0-1ubuntu1.1) ...\n",
            "Selecting previously unselected package libleptonica-dev.\n",
            "Preparing to unpack .../1-libleptonica-dev_1.82.0-3build1_amd64.deb ...\n",
            "Unpacking libleptonica-dev (1.82.0-3build1) ...\n",
            "Selecting previously unselected package libtesseract-dev:amd64.\n",
            "Preparing to unpack .../2-libtesseract-dev_4.1.1-2.1build1_amd64.deb ...\n",
            "Unpacking libtesseract-dev:amd64 (4.1.1-2.1build1) ...\n",
            "Selecting previously unselected package tesseract-ocr-eng.\n",
            "Preparing to unpack .../3-tesseract-ocr-eng_1%3a4.00~git30-7274cfa-1.1_all.deb ...\n",
            "Unpacking tesseract-ocr-eng (1:4.00~git30-7274cfa-1.1) ...\n",
            "Selecting previously unselected package tesseract-ocr-osd.\n",
            "Preparing to unpack .../4-tesseract-ocr-osd_1%3a4.00~git30-7274cfa-1.1_all.deb ...\n",
            "Unpacking tesseract-ocr-osd (1:4.00~git30-7274cfa-1.1) ...\n",
            "Selecting previously unselected package tesseract-ocr.\n",
            "Preparing to unpack .../5-tesseract-ocr_4.1.1-2.1build1_amd64.deb ...\n",
            "Unpacking tesseract-ocr (4.1.1-2.1build1) ...\n",
            "Setting up tesseract-ocr-eng (1:4.00~git30-7274cfa-1.1) ...\n",
            "Setting up libleptonica-dev (1.82.0-3build1) ...\n",
            "Setting up libarchive-dev:amd64 (3.6.0-1ubuntu1.1) ...\n",
            "Setting up tesseract-ocr-osd (1:4.00~git30-7274cfa-1.1) ...\n",
            "Setting up libtesseract-dev:amd64 (4.1.1-2.1build1) ...\n",
            "Setting up tesseract-ocr (4.1.1-2.1build1) ...\n",
            "Processing triggers for man-db (2.10.2-1) ...\n",
            "\u001b[2K     \u001b[90m━━━━━━━━━━━━━━━━━━━━━━━━━━━━━━━━━━━━━━━━\u001b[0m \u001b[32m164.2/164.2 kB\u001b[0m \u001b[31m1.2 MB/s\u001b[0m eta \u001b[36m0:00:00\u001b[0m\n",
            "\u001b[2K     \u001b[90m━━━━━━━━━━━━━━━━━━━━━━━━━━━━━━━━━━━━━━━━\u001b[0m \u001b[32m581.4/581.4 kB\u001b[0m \u001b[31m7.9 MB/s\u001b[0m eta \u001b[36m0:00:00\u001b[0m\n",
            "\u001b[2K     \u001b[90m━━━━━━━━━━━━━━━━━━━━━━━━━━━━━━━━━━━━━━━━\u001b[0m \u001b[32m718.3/718.3 kB\u001b[0m \u001b[31m27.9 MB/s\u001b[0m eta \u001b[36m0:00:00\u001b[0m\n",
            "\u001b[2K     \u001b[90m━━━━━━━━━━━━━━━━━━━━━━━━━━━━━━━━━━━━━━━━\u001b[0m \u001b[32m2.4/2.4 MB\u001b[0m \u001b[31m34.4 MB/s\u001b[0m eta \u001b[36m0:00:00\u001b[0m\n",
            "\u001b[2K     \u001b[90m━━━━━━━━━━━━━━━━━━━━━━━━━━━━━━━━━━━━━━━━\u001b[0m \u001b[32m92.2/92.2 kB\u001b[0m \u001b[31m4.6 MB/s\u001b[0m eta \u001b[36m0:00:00\u001b[0m\n",
            "\u001b[2K     \u001b[90m━━━━━━━━━━━━━━━━━━━━━━━━━━━━━━━━━━━━━━━━\u001b[0m \u001b[32m62.4/62.4 kB\u001b[0m \u001b[31m4.0 MB/s\u001b[0m eta \u001b[36m0:00:00\u001b[0m\n",
            "\u001b[2K     \u001b[90m━━━━━━━━━━━━━━━━━━━━━━━━━━━━━━━━━━━━━━━━\u001b[0m \u001b[32m41.3/41.3 kB\u001b[0m \u001b[31m3.1 MB/s\u001b[0m eta \u001b[36m0:00:00\u001b[0m\n",
            "\u001b[2K     \u001b[90m━━━━━━━━━━━━━━━━━━━━━━━━━━━━━━━━━━━━━━━━\u001b[0m \u001b[32m6.8/6.8 MB\u001b[0m \u001b[31m48.5 MB/s\u001b[0m eta \u001b[36m0:00:00\u001b[0m\n",
            "\u001b[2K     \u001b[90m━━━━━━━━━━━━━━━━━━━━━━━━━━━━━━━━━━━━━━━━\u001b[0m \u001b[32m59.9/59.9 kB\u001b[0m \u001b[31m5.1 MB/s\u001b[0m eta \u001b[36m0:00:00\u001b[0m\n",
            "\u001b[2K     \u001b[90m━━━━━━━━━━━━━━━━━━━━━━━━━━━━━━━━━━━━━━━━\u001b[0m \u001b[32m107.0/107.0 kB\u001b[0m \u001b[31m8.1 MB/s\u001b[0m eta \u001b[36m0:00:00\u001b[0m\n",
            "\u001b[2K     \u001b[90m━━━━━━━━━━━━━━━━━━━━━━━━━━━━━━━━━━━━━━━━\u001b[0m \u001b[32m67.3/67.3 kB\u001b[0m \u001b[31m5.0 MB/s\u001b[0m eta \u001b[36m0:00:00\u001b[0m\n",
            "\u001b[?25h  Installing build dependencies ... \u001b[?25l\u001b[?25hdone\n",
            "  Getting requirements to build wheel ... \u001b[?25l\u001b[?25hdone\n",
            "  Preparing metadata (pyproject.toml) ... \u001b[?25l\u001b[?25hdone\n",
            "\u001b[2K     \u001b[90m━━━━━━━━━━━━━━━━━━━━━━━━━━━━━━━━━━━━━━━━\u001b[0m \u001b[32m283.7/283.7 kB\u001b[0m \u001b[31m30.8 MB/s\u001b[0m eta \u001b[36m0:00:00\u001b[0m\n",
            "\u001b[2K     \u001b[90m━━━━━━━━━━━━━━━━━━━━━━━━━━━━━━━━━━━━━━━━\u001b[0m \u001b[32m1.7/1.7 MB\u001b[0m \u001b[31m56.7 MB/s\u001b[0m eta \u001b[36m0:00:00\u001b[0m\n",
            "\u001b[2K     \u001b[90m━━━━━━━━━━━━━━━━━━━━━━━━━━━━━━━━━━━━━━━━\u001b[0m \u001b[32m67.6/67.6 kB\u001b[0m \u001b[31m7.9 MB/s\u001b[0m eta \u001b[36m0:00:00\u001b[0m\n",
            "\u001b[2K     \u001b[90m━━━━━━━━━━━━━━━━━━━━━━━━━━━━━━━━━━━━━━━━\u001b[0m \u001b[32m141.1/141.1 kB\u001b[0m \u001b[31m13.7 MB/s\u001b[0m eta \u001b[36m0:00:00\u001b[0m\n",
            "\u001b[2K     \u001b[90m━━━━━━━━━━━━━━━━━━━━━━━━━━━━━━━━━━━━━━━━\u001b[0m \u001b[32m75.6/75.6 kB\u001b[0m \u001b[31m5.7 MB/s\u001b[0m eta \u001b[36m0:00:00\u001b[0m\n",
            "\u001b[2K     \u001b[90m━━━━━━━━━━━━━━━━━━━━━━━━━━━━━━━━━━━━━━━━\u001b[0m \u001b[32m71.9/71.9 kB\u001b[0m \u001b[31m5.5 MB/s\u001b[0m eta \u001b[36m0:00:00\u001b[0m\n",
            "\u001b[2K     \u001b[90m━━━━━━━━━━━━━━━━━━━━━━━━━━━━━━━━━━━━━━━━\u001b[0m \u001b[32m77.9/77.9 kB\u001b[0m \u001b[31m600.5 kB/s\u001b[0m eta \u001b[36m0:00:00\u001b[0m\n",
            "\u001b[2K     \u001b[90m━━━━━━━━━━━━━━━━━━━━━━━━━━━━━━━━━━━━━━━━\u001b[0m \u001b[32m58.3/58.3 kB\u001b[0m \u001b[31m5.2 MB/s\u001b[0m eta \u001b[36m0:00:00\u001b[0m\n",
            "\u001b[2K     \u001b[90m━━━━━━━━━━━━━━━━━━━━━━━━━━━━━━━━━━━━━━━━\u001b[0m \u001b[32m46.0/46.0 kB\u001b[0m \u001b[31m4.1 MB/s\u001b[0m eta \u001b[36m0:00:00\u001b[0m\n",
            "\u001b[2K     \u001b[90m━━━━━━━━━━━━━━━━━━━━━━━━━━━━━━━━━━━━━━━━\u001b[0m \u001b[32m52.5/52.5 kB\u001b[0m \u001b[31m5.5 MB/s\u001b[0m eta \u001b[36m0:00:00\u001b[0m\n",
            "\u001b[2K     \u001b[90m━━━━━━━━━━━━━━━━━━━━━━━━━━━━━━━━━━━━━━━━\u001b[0m \u001b[32m130.5/130.5 kB\u001b[0m \u001b[31m11.7 MB/s\u001b[0m eta \u001b[36m0:00:00\u001b[0m\n",
            "\u001b[2K     \u001b[90m━━━━━━━━━━━━━━━━━━━━━━━━━━━━━━━━━━━━━━━━\u001b[0m \u001b[32m341.4/341.4 kB\u001b[0m \u001b[31m1.9 MB/s\u001b[0m eta \u001b[36m0:00:00\u001b[0m\n",
            "\u001b[2K     \u001b[90m━━━━━━━━━━━━━━━━━━━━━━━━━━━━━━━━━━━━━━━━\u001b[0m \u001b[32m3.4/3.4 MB\u001b[0m \u001b[31m42.8 MB/s\u001b[0m eta \u001b[36m0:00:00\u001b[0m\n",
            "\u001b[2K     \u001b[90m━━━━━━━━━━━━━━━━━━━━━━━━━━━━━━━━━━━━━━━━\u001b[0m \u001b[32m1.2/1.2 MB\u001b[0m \u001b[31m36.7 MB/s\u001b[0m eta \u001b[36m0:00:00\u001b[0m\n",
            "\u001b[2K     \u001b[90m━━━━━━━━━━━━━━━━━━━━━━━━━━━━━━━━━━━━━━━━\u001b[0m \u001b[32m130.2/130.2 kB\u001b[0m \u001b[31m9.8 MB/s\u001b[0m eta \u001b[36m0:00:00\u001b[0m\n",
            "\u001b[2K     \u001b[90m━━━━━━━━━━━━━━━━━━━━━━━━━━━━━━━━━━━━━━━━\u001b[0m \u001b[32m307.7/307.7 kB\u001b[0m \u001b[31m27.2 MB/s\u001b[0m eta \u001b[36m0:00:00\u001b[0m\n",
            "\u001b[2K     \u001b[90m━━━━━━━━━━━━━━━━━━━━━━━━━━━━━━━━━━━━━━━━\u001b[0m \u001b[32m86.8/86.8 kB\u001b[0m \u001b[31m4.3 MB/s\u001b[0m eta \u001b[36m0:00:00\u001b[0m\n",
            "\u001b[?25h  Building wheel for pypika (pyproject.toml) ... \u001b[?25l\u001b[?25hdone\n"
          ]
        }
      ],
      "source": [
        "!apt install tesseract-ocr libtesseract-dev\n",
        "!pip install -q -U google-generativeai chromadb pytesseract"
      ]
    },
    {
      "cell_type": "code",
      "execution_count": 2,
      "metadata": {
        "id": "4dR9Y4aMS06w"
      },
      "outputs": [],
      "source": [
        "import time\n",
        "from tqdm import tqdm\n",
        "import pathlib\n",
        "import google.generativeai as genai\n",
        "import chromadb\n",
        "from chromadb import Documents, EmbeddingFunction, Embeddings\n",
        "import pandas as pd\n",
        "from PIL import Image\n",
        "import pytesseract\n",
        "from IPython.display import Markdown"
      ]
    },
    {
      "cell_type": "code",
      "execution_count": 4,
      "metadata": {
        "id": "KcqR5FVBS06x"
      },
      "outputs": [],
      "source": [
        "from google.colab import userdata\n",
        "GOOGLE_API_KEY=userdata.get('GOOGLE_API_KEY')\n",
        "\n",
        "genai.configure(api_key=GOOGLE_API_KEY)"
      ]
    },
    {
      "cell_type": "markdown",
      "metadata": {
        "id": "3FIMOUeeS06x"
      },
      "source": [
        "# Gemini Final Exercise\n",
        "\n",
        "You're an astronomy student who's very curious about the Apollo 11 missions,\n",
        "and through your research, you've found a lot of different types of data (otherwise known as multimodal) from NASA's\n",
        "public archive.\n",
        "\n",
        "1. Text: You have the full final NASA report post-mission, spanning over 300\n",
        "pages of incredibly informative content that details a summary of everything\n",
        "that happened as well as conclusions that NASA researchers and engineers\n",
        "came to. For the sake of this exercise, we've selected 3 particularly interesting pages, and converted them to images (you'll see soon why).\n",
        "\n",
        "2. Video: You also have several clips of the famous Neil Armstrong and Buzz Aldrin footage as they\n",
        "first stepped onto the moon, containing highlights of their moonwalks as well\n",
        "as raising the American flag.\n",
        "\n",
        "3. Audio: Finally, you have highlights from the audio recorded throughout the\n",
        "mission, which provides insights into how communication between the astronauts\n",
        "occurred as well as from the astronauts to mission control.\n",
        "\n",
        "Now, you want to search through and summarize this information for your\n",
        "upcoming research paper. Using your newfound skills from this course, you\n",
        "can accomplish this using Gemini! In particular, we will build a Retrieval Augmented Generation (RAG) system that you can directly interact with."
      ]
    },
    {
      "cell_type": "markdown",
      "metadata": {
        "id": "ss-k463PS06y"
      },
      "source": [
        "## Data Preparation\n",
        "\n",
        "Before we begin, ensure that you've uploaded the resources.zip folder and unzipped it using the following command:"
      ]
    },
    {
      "cell_type": "code",
      "source": [
        "!wget -O resources.zip \"https://video.udacity-data.com/topher/2024/June/66744e79_resources/resources.zip\""
      ],
      "metadata": {
        "colab": {
          "base_uri": "https://localhost:8080/"
        },
        "id": "3zgeujn1nlLO",
        "outputId": "3a021316-8587-4f34-eaee-ed640c28d355"
      },
      "execution_count": 5,
      "outputs": [
        {
          "output_type": "stream",
          "name": "stdout",
          "text": [
            "--2024-07-17 17:30:52--  https://video.udacity-data.com/topher/2024/June/66744e79_resources/resources.zip\n",
            "Resolving video.udacity-data.com (video.udacity-data.com)... 104.19.141.72, 104.19.140.72, 104.19.139.72, ...\n",
            "Connecting to video.udacity-data.com (video.udacity-data.com)|104.19.141.72|:443... connected.\n",
            "HTTP request sent, awaiting response... 200 OK\n",
            "Length: 286142532 (273M) [application/zip]\n",
            "Saving to: ‘resources.zip’\n",
            "\n",
            "resources.zip       100%[===================>] 272.89M  8.05MB/s    in 5.1s    \n",
            "\n",
            "2024-07-17 17:30:57 (53.3 MB/s) - ‘resources.zip’ saved [286142532/286142532]\n",
            "\n"
          ]
        }
      ]
    },
    {
      "cell_type": "code",
      "source": [
        "!unzip resources.zip"
      ],
      "metadata": {
        "id": "A83ccgkRvz8u",
        "colab": {
          "base_uri": "https://localhost:8080/"
        },
        "outputId": "52d03d97-3e2d-4038-988b-f422f53d2cd9"
      },
      "execution_count": 6,
      "outputs": [
        {
          "output_type": "stream",
          "name": "stdout",
          "text": [
            "Archive:  resources.zip\n",
            "   creating: resources/\n",
            "  inflating: __MACOSX/._resources    \n",
            "   creating: resources/video/\n",
            "  inflating: __MACOSX/resources/._video  \n",
            "  inflating: resources/.DS_Store     \n",
            "  inflating: __MACOSX/resources/._.DS_Store  \n",
            "   creating: resources/audio/\n",
            "  inflating: __MACOSX/resources/._audio  \n",
            "   creating: resources/text/\n",
            "  inflating: __MACOSX/resources/._text  \n",
            "  inflating: resources/video/Apollo11PlaqueComparison.mov  \n",
            "  inflating: __MACOSX/resources/video/._Apollo11PlaqueComparison.mov  \n",
            "  inflating: resources/video/Apollo11Intro.mov  \n",
            "  inflating: __MACOSX/resources/video/._Apollo11Intro.mov  \n",
            "  inflating: resources/video/Apollo11MoonwalkMontage.mov  \n",
            "  inflating: __MACOSX/resources/video/._Apollo11MoonwalkMontage.mov  \n",
            "  inflating: resources/video/OneSmallStepCompilation.mov  \n",
            "  inflating: __MACOSX/resources/video/._OneSmallStepCompilation.mov  \n",
            "  inflating: resources/video/RaisingTheAmericanFlag.mov  \n",
            "  inflating: __MACOSX/resources/video/._RaisingTheAmericanFlag.mov  \n",
            "  inflating: resources/video/BuzzDescendsCompilation.mov  \n",
            "  inflating: __MACOSX/resources/video/._BuzzDescendsCompilation.mov  \n",
            "  inflating: resources/audio/Apollo11OnboardAudioHighlightClip1.mp3  \n",
            "  inflating: __MACOSX/resources/audio/._Apollo11OnboardAudioHighlightClip1.mp3  \n",
            "  inflating: resources/audio/Apollo11OnboardAudioHighlightClip3.mp3  \n",
            "  inflating: __MACOSX/resources/audio/._Apollo11OnboardAudioHighlightClip3.mp3  \n",
            "  inflating: resources/audio/Apollo11OnboardAudioHighlightClip2.mp3  \n",
            "  inflating: __MACOSX/resources/audio/._Apollo11OnboardAudioHighlightClip2.mp3  \n",
            "  inflating: resources/audio/Apollo11OnboardAudioHighlightClip5.mp3  \n",
            "  inflating: __MACOSX/resources/audio/._Apollo11OnboardAudioHighlightClip5.mp3  \n",
            "  inflating: resources/audio/Apollo11OnboardAudioHighlightClip4.mp3  \n",
            "  inflating: __MACOSX/resources/audio/._Apollo11OnboardAudioHighlightClip4.mp3  \n",
            "  inflating: resources/text/.DS_Store  \n",
            "  inflating: __MACOSX/resources/text/._.DS_Store  \n",
            "  inflating: resources/text/images-333.jpg  \n",
            "  inflating: __MACOSX/resources/text/._images-333.jpg  \n",
            "  inflating: resources/text/images-020.jpg  \n",
            "  inflating: __MACOSX/resources/text/._images-020.jpg  \n",
            "  inflating: resources/text/images-023.jpg  \n",
            "  inflating: __MACOSX/resources/text/._images-023.jpg  \n"
          ]
        }
      ]
    },
    {
      "cell_type": "markdown",
      "source": [
        "\n",
        "As we saw throughout this course, when working with different types of data,\n",
        "we first need to parse it in a way that Gemini can understand. We will prepare our data by extracting all file names from the `resources` directory."
      ],
      "metadata": {
        "id": "TchHEWKNysN6"
      }
    },
    {
      "cell_type": "code",
      "execution_count": 7,
      "metadata": {
        "id": "C2pWcb50S06y"
      },
      "outputs": [],
      "source": [
        "data_dir = pathlib.Path(\"resources/\")\n",
        "all_file_names = [str(file) for file in data_dir.rglob(\"*\") if file.is_file() and not file.name.startswith('.')]"
      ]
    },
    {
      "cell_type": "code",
      "execution_count": 8,
      "metadata": {
        "colab": {
          "base_uri": "https://localhost:8080/"
        },
        "id": "OVQAB2FYuHMs",
        "outputId": "2369433c-237e-432d-cda9-2d24ddcb382a"
      },
      "outputs": [
        {
          "output_type": "stream",
          "name": "stdout",
          "text": [
            "resources/video/BuzzDescendsCompilation.mov\n",
            "resources/video/Apollo11Intro.mov\n",
            "resources/video/Apollo11MoonwalkMontage.mov\n",
            "resources/video/Apollo11PlaqueComparison.mov\n",
            "resources/video/OneSmallStepCompilation.mov\n",
            "resources/video/RaisingTheAmericanFlag.mov\n",
            "resources/text/images-020.jpg\n",
            "resources/text/images-333.jpg\n",
            "resources/text/images-023.jpg\n",
            "resources/audio/Apollo11OnboardAudioHighlightClip3.mp3\n",
            "resources/audio/Apollo11OnboardAudioHighlightClip2.mp3\n",
            "resources/audio/Apollo11OnboardAudioHighlightClip5.mp3\n",
            "resources/audio/Apollo11OnboardAudioHighlightClip4.mp3\n",
            "resources/audio/Apollo11OnboardAudioHighlightClip1.mp3\n",
            "14\n"
          ]
        }
      ],
      "source": [
        "for file_name in all_file_names:\n",
        "    print(file_name)\n",
        "\n",
        "print(len(all_file_names))"
      ]
    },
    {
      "cell_type": "markdown",
      "source": [
        "You should expect to see 14 files."
      ],
      "metadata": {
        "id": "Q-jKE-_mzBdA"
      }
    },
    {
      "cell_type": "markdown",
      "source": [
        "## Retrieval Augmented Generation (RAG)\n",
        "\n",
        "To showcase how we build a RAG, we will first build one for the Text case, and generalize it further after. Here is the general idea:\n",
        "1. **Data Preparation** (done above): We first collected various types of data from NASA's public archive related to the Apollo 11 mission, including text, video, and audio files.\n",
        "2. **Data Extraction and Summarization**: Extract the multimodal data from images, e.g. extract text from images using Optical Character Recognition (OCR), and use Gemini to generate summaries using a specialized prompt.\n",
        "3. **Embedding Generation**: Convert the generated summaries into vector embeddings using Gemini's Text Embedding Model. These embeddings represent the summaries in a numerical format suitable for efficient similarity searches.\n",
        "4. **Creating a Vector Database**: A Vector database was created to store the embeddings. This database facilitates fast and efficient retrieval of relevant documents based on similarity searches. We chose to use Chroma DB.\n",
        "5. **Querying the RAG System**: For a given query, the system retrieves the most relevant documents (based on their embeddings) and generates a response using the retrieved documents as context.\n",
        "\n",
        "Something important to note is that RAGs are usually used only when there is a surplus of data. In other words, if the data can't fit into the model prompt. In this case, the data we provided likely can fit into Gemini's 1 million token window, but for the sake of simplicity and restrictions of Google Colab's runtime, we opted to use a smaller set of data."
      ],
      "metadata": {
        "id": "9tss_lYN2irS"
      }
    },
    {
      "cell_type": "markdown",
      "metadata": {
        "id": "1tPe__sZS06z"
      },
      "source": [
        "### Text\n",
        "\n",
        "We will use Tesseract OCR (Optical Character Recognition) to extract text from images of the NASA report."
      ]
    },
    {
      "cell_type": "code",
      "execution_count": 9,
      "metadata": {
        "id": "cABpEnIAS06z"
      },
      "outputs": [],
      "source": [
        "pytesseract.pytesseract.tesseract_cmd = (r'/usr/bin/tesseract')"
      ]
    },
    {
      "cell_type": "markdown",
      "source": [
        "Let's create a function to take in our images of a PDF, transcribe them into text, and summarize each of them."
      ],
      "metadata": {
        "id": "_qLI7NRf0W6R"
      }
    },
    {
      "cell_type": "code",
      "source": [
        "def create_text_summary():\n",
        "  path = pathlib.Path(\"resources/text\")\n",
        "\n",
        "  text_summary_prompt = f\"\"\"You are an assistant tailored for summarizing text for retrieval.\n",
        "  These summaries will be turned into vector embeddings and used to retrieve the raw text.\n",
        "  Give a concise summary of the text that is well optimized for retrieval. Here is the text.\"\"\"\n",
        "\n",
        "  images = []\n",
        "  text_summaries = []\n",
        "\n",
        "  images = []\n",
        "  text_summaries = []\n",
        "\n",
        "  for f in path.glob(\"*\"):\n",
        "    if f.is_dir() or f.name.startswith('.'):\n",
        "      continue\n",
        "\n",
        "    image = Image.open(f)\n",
        "    response = model.generate_content([text_summary_prompt, pytesseract.image_to_string(image)])\n",
        "\n",
        "    images.append(image)\n",
        "    text_summaries.append(response.text)\n",
        "\n",
        "  return images, text_summaries"
      ],
      "metadata": {
        "id": "PmhJmL6tzYGe"
      },
      "execution_count": 10,
      "outputs": []
    },
    {
      "cell_type": "code",
      "execution_count": 11,
      "metadata": {
        "id": "oVWPg6ohVO4B"
      },
      "outputs": [],
      "source": [
        "safety_settings = [\n",
        "    {\n",
        "        \"category\": \"HARM_CATEGORY_DANGEROUS_CONTENT\",\n",
        "        \"threshold\": \"BLOCK_NONE\",\n",
        "    },\n",
        "]\n",
        "\n",
        "model = genai.GenerativeModel('models/gemini-1.5-flash', safety_settings=safety_settings)"
      ]
    },
    {
      "cell_type": "code",
      "source": [
        "image_files, text_summaries = create_text_summary()"
      ],
      "metadata": {
        "id": "_LDD1OYD3tzL"
      },
      "execution_count": 12,
      "outputs": []
    },
    {
      "cell_type": "markdown",
      "source": [
        "Now, we can check out the generated summaries of the three pages we have!"
      ],
      "metadata": {
        "id": "Q4vYQfaP4VaK"
      }
    },
    {
      "cell_type": "code",
      "source": [
        "for text_summary in text_summaries:\n",
        "  print(text_summary)"
      ],
      "metadata": {
        "id": "YOaFPyZh4NJN",
        "colab": {
          "base_uri": "https://localhost:8080/"
        },
        "outputId": "b0b70cc0-3137-41aa-c26b-1d104235b360"
      },
      "execution_count": 13,
      "outputs": [
        {
          "output_type": "stream",
          "name": "stdout",
          "text": [
            "This document is the Apollo 11 Flight Plan, outlining the mission's operations and crew activities to achieve the G Type Mission Lunar Landing objectives.  It uses trajectory parameters for a July 16, 1969 launch.  Changes to the Flight Plan must be submitted to the Crew Procedures Control Board (CPCB) for review and approval.  Contact Mr. W. J. North for distribution list updates. \n",
            "\n",
            "This document outlines ground rules and assumptions for an EPS analysis. It covers battery usage, S-band equipment operation, rendezvous radar, primary navigation and guidance subsystem, and forward window heaters. \n",
            "\n",
            "This document outlines the Apollo 11 mission launch and lunar orbit insertion (LOI) phases. Key events include: launch at 9:32 EDT on July 16, 1969, Earth orbit insertion at 11 min. 43 sec., translunar injection (TLI) at 2:44:26 GET, transposition, docking and LM ejection, separation from SIVB and an evasive maneuver, SIVB propulsive venting, cislunar navigation sightings, and four midcourse corrections. \n",
            "\n"
          ]
        }
      ]
    },
    {
      "cell_type": "markdown",
      "source": [
        "We create the Chroma database using the generated summaries. You might be wondering what Vector DB and Chroma DB are.\n",
        "\n",
        "**Vector Database**: A specialized database designed to store and manage high-dimensional vectors, which are numerical representations of data points. It allows efficient similarity searches to find vectors (and their corresponding data) that are close to a given query vector.\n",
        "\n",
        "**Chroma DB**: An implementation of a vector database used to store and retrieve vector embeddings. These embeddings are generated from our summaries and allow us to perform efficient similarity searches.\n"
      ],
      "metadata": {
        "id": "gJplIeEf4dv-"
      }
    },
    {
      "cell_type": "code",
      "execution_count": 14,
      "metadata": {
        "id": "rmyZVoVFWH4R"
      },
      "outputs": [],
      "source": [
        "class GeminiEmbeddingFunction(EmbeddingFunction):\n",
        "  def __call__(self, input: Documents) -> Embeddings:\n",
        "    model = 'models/text-embedding-004'\n",
        "    title = \"Custom query\"\n",
        "    return genai.embed_content(model=model,\n",
        "                                content=input,\n",
        "                                task_type=\"retrieval_document\",\n",
        "                                title=title)[\"embedding\"]"
      ]
    },
    {
      "cell_type": "code",
      "execution_count": 15,
      "metadata": {
        "id": "hinj0EPkWJAZ"
      },
      "outputs": [],
      "source": [
        "def create_chroma_db(documents, name):\n",
        "  chroma_client = chromadb.Client()\n",
        "  db = chroma_client.get_or_create_collection(name=name, embedding_function=GeminiEmbeddingFunction())\n",
        "\n",
        "\n",
        "  for i, d in enumerate(documents):\n",
        "    db.add(\n",
        "      documents=d,\n",
        "      ids=str(i)\n",
        "    )\n",
        "  return db"
      ]
    },
    {
      "cell_type": "code",
      "source": [
        "text_db = create_chroma_db(text_summaries, \"text_nasa\")"
      ],
      "metadata": {
        "id": "MhwanL5X3scA"
      },
      "execution_count": 16,
      "outputs": []
    },
    {
      "cell_type": "markdown",
      "source": [
        "Let's also take a peak at the `text_db` and ensure that embeddings were generated:"
      ],
      "metadata": {
        "id": "pvXSb0gd5JRn"
      }
    },
    {
      "cell_type": "code",
      "source": [
        "data = {\n",
        "    'embeddings': text_db.peek()['embeddings'],\n",
        "    'documents': text_db.peek()['documents']\n",
        "}\n",
        "\n",
        "df = pd.DataFrame.from_dict(data, orient='index').transpose()\n",
        "df"
      ],
      "metadata": {
        "id": "VgZqcKOy5ICs",
        "colab": {
          "base_uri": "https://localhost:8080/",
          "height": 143
        },
        "outputId": "f9cb26c2-dd4a-4383-edaa-53ef8e1ec12e"
      },
      "execution_count": 17,
      "outputs": [
        {
          "output_type": "execute_result",
          "data": {
            "text/plain": [
              "                                          embeddings  \\\n",
              "0  [0.06936851888895035, 0.010635172948241234, 0....   \n",
              "1  [0.08539081364870071, 0.008570509031414986, -0...   \n",
              "2  [0.07238481193780899, -0.026040291413664818, 0...   \n",
              "\n",
              "                                           documents  \n",
              "0  This document is the Apollo 11 Flight Plan, ou...  \n",
              "1  This document outlines ground rules and assump...  \n",
              "2  This document outlines the Apollo 11 mission l...  "
            ],
            "text/html": [
              "\n",
              "  <div id=\"df-ba2c6a71-09a9-4478-815c-24878dc9cfd0\" class=\"colab-df-container\">\n",
              "    <div>\n",
              "<style scoped>\n",
              "    .dataframe tbody tr th:only-of-type {\n",
              "        vertical-align: middle;\n",
              "    }\n",
              "\n",
              "    .dataframe tbody tr th {\n",
              "        vertical-align: top;\n",
              "    }\n",
              "\n",
              "    .dataframe thead th {\n",
              "        text-align: right;\n",
              "    }\n",
              "</style>\n",
              "<table border=\"1\" class=\"dataframe\">\n",
              "  <thead>\n",
              "    <tr style=\"text-align: right;\">\n",
              "      <th></th>\n",
              "      <th>embeddings</th>\n",
              "      <th>documents</th>\n",
              "    </tr>\n",
              "  </thead>\n",
              "  <tbody>\n",
              "    <tr>\n",
              "      <th>0</th>\n",
              "      <td>[0.06936851888895035, 0.010635172948241234, 0....</td>\n",
              "      <td>This document is the Apollo 11 Flight Plan, ou...</td>\n",
              "    </tr>\n",
              "    <tr>\n",
              "      <th>1</th>\n",
              "      <td>[0.08539081364870071, 0.008570509031414986, -0...</td>\n",
              "      <td>This document outlines ground rules and assump...</td>\n",
              "    </tr>\n",
              "    <tr>\n",
              "      <th>2</th>\n",
              "      <td>[0.07238481193780899, -0.026040291413664818, 0...</td>\n",
              "      <td>This document outlines the Apollo 11 mission l...</td>\n",
              "    </tr>\n",
              "  </tbody>\n",
              "</table>\n",
              "</div>\n",
              "    <div class=\"colab-df-buttons\">\n",
              "\n",
              "  <div class=\"colab-df-container\">\n",
              "    <button class=\"colab-df-convert\" onclick=\"convertToInteractive('df-ba2c6a71-09a9-4478-815c-24878dc9cfd0')\"\n",
              "            title=\"Convert this dataframe to an interactive table.\"\n",
              "            style=\"display:none;\">\n",
              "\n",
              "  <svg xmlns=\"http://www.w3.org/2000/svg\" height=\"24px\" viewBox=\"0 -960 960 960\">\n",
              "    <path d=\"M120-120v-720h720v720H120Zm60-500h600v-160H180v160Zm220 220h160v-160H400v160Zm0 220h160v-160H400v160ZM180-400h160v-160H180v160Zm440 0h160v-160H620v160ZM180-180h160v-160H180v160Zm440 0h160v-160H620v160Z\"/>\n",
              "  </svg>\n",
              "    </button>\n",
              "\n",
              "  <style>\n",
              "    .colab-df-container {\n",
              "      display:flex;\n",
              "      gap: 12px;\n",
              "    }\n",
              "\n",
              "    .colab-df-convert {\n",
              "      background-color: #E8F0FE;\n",
              "      border: none;\n",
              "      border-radius: 50%;\n",
              "      cursor: pointer;\n",
              "      display: none;\n",
              "      fill: #1967D2;\n",
              "      height: 32px;\n",
              "      padding: 0 0 0 0;\n",
              "      width: 32px;\n",
              "    }\n",
              "\n",
              "    .colab-df-convert:hover {\n",
              "      background-color: #E2EBFA;\n",
              "      box-shadow: 0px 1px 2px rgba(60, 64, 67, 0.3), 0px 1px 3px 1px rgba(60, 64, 67, 0.15);\n",
              "      fill: #174EA6;\n",
              "    }\n",
              "\n",
              "    .colab-df-buttons div {\n",
              "      margin-bottom: 4px;\n",
              "    }\n",
              "\n",
              "    [theme=dark] .colab-df-convert {\n",
              "      background-color: #3B4455;\n",
              "      fill: #D2E3FC;\n",
              "    }\n",
              "\n",
              "    [theme=dark] .colab-df-convert:hover {\n",
              "      background-color: #434B5C;\n",
              "      box-shadow: 0px 1px 3px 1px rgba(0, 0, 0, 0.15);\n",
              "      filter: drop-shadow(0px 1px 2px rgba(0, 0, 0, 0.3));\n",
              "      fill: #FFFFFF;\n",
              "    }\n",
              "  </style>\n",
              "\n",
              "    <script>\n",
              "      const buttonEl =\n",
              "        document.querySelector('#df-ba2c6a71-09a9-4478-815c-24878dc9cfd0 button.colab-df-convert');\n",
              "      buttonEl.style.display =\n",
              "        google.colab.kernel.accessAllowed ? 'block' : 'none';\n",
              "\n",
              "      async function convertToInteractive(key) {\n",
              "        const element = document.querySelector('#df-ba2c6a71-09a9-4478-815c-24878dc9cfd0');\n",
              "        const dataTable =\n",
              "          await google.colab.kernel.invokeFunction('convertToInteractive',\n",
              "                                                    [key], {});\n",
              "        if (!dataTable) return;\n",
              "\n",
              "        const docLinkHtml = 'Like what you see? Visit the ' +\n",
              "          '<a target=\"_blank\" href=https://colab.research.google.com/notebooks/data_table.ipynb>data table notebook</a>'\n",
              "          + ' to learn more about interactive tables.';\n",
              "        element.innerHTML = '';\n",
              "        dataTable['output_type'] = 'display_data';\n",
              "        await google.colab.output.renderOutput(dataTable, element);\n",
              "        const docLink = document.createElement('div');\n",
              "        docLink.innerHTML = docLinkHtml;\n",
              "        element.appendChild(docLink);\n",
              "      }\n",
              "    </script>\n",
              "  </div>\n",
              "\n",
              "\n",
              "<div id=\"df-01083337-b4f3-4aa7-9308-110fc1066c9c\">\n",
              "  <button class=\"colab-df-quickchart\" onclick=\"quickchart('df-01083337-b4f3-4aa7-9308-110fc1066c9c')\"\n",
              "            title=\"Suggest charts\"\n",
              "            style=\"display:none;\">\n",
              "\n",
              "<svg xmlns=\"http://www.w3.org/2000/svg\" height=\"24px\"viewBox=\"0 0 24 24\"\n",
              "     width=\"24px\">\n",
              "    <g>\n",
              "        <path d=\"M19 3H5c-1.1 0-2 .9-2 2v14c0 1.1.9 2 2 2h14c1.1 0 2-.9 2-2V5c0-1.1-.9-2-2-2zM9 17H7v-7h2v7zm4 0h-2V7h2v10zm4 0h-2v-4h2v4z\"/>\n",
              "    </g>\n",
              "</svg>\n",
              "  </button>\n",
              "\n",
              "<style>\n",
              "  .colab-df-quickchart {\n",
              "      --bg-color: #E8F0FE;\n",
              "      --fill-color: #1967D2;\n",
              "      --hover-bg-color: #E2EBFA;\n",
              "      --hover-fill-color: #174EA6;\n",
              "      --disabled-fill-color: #AAA;\n",
              "      --disabled-bg-color: #DDD;\n",
              "  }\n",
              "\n",
              "  [theme=dark] .colab-df-quickchart {\n",
              "      --bg-color: #3B4455;\n",
              "      --fill-color: #D2E3FC;\n",
              "      --hover-bg-color: #434B5C;\n",
              "      --hover-fill-color: #FFFFFF;\n",
              "      --disabled-bg-color: #3B4455;\n",
              "      --disabled-fill-color: #666;\n",
              "  }\n",
              "\n",
              "  .colab-df-quickchart {\n",
              "    background-color: var(--bg-color);\n",
              "    border: none;\n",
              "    border-radius: 50%;\n",
              "    cursor: pointer;\n",
              "    display: none;\n",
              "    fill: var(--fill-color);\n",
              "    height: 32px;\n",
              "    padding: 0;\n",
              "    width: 32px;\n",
              "  }\n",
              "\n",
              "  .colab-df-quickchart:hover {\n",
              "    background-color: var(--hover-bg-color);\n",
              "    box-shadow: 0 1px 2px rgba(60, 64, 67, 0.3), 0 1px 3px 1px rgba(60, 64, 67, 0.15);\n",
              "    fill: var(--button-hover-fill-color);\n",
              "  }\n",
              "\n",
              "  .colab-df-quickchart-complete:disabled,\n",
              "  .colab-df-quickchart-complete:disabled:hover {\n",
              "    background-color: var(--disabled-bg-color);\n",
              "    fill: var(--disabled-fill-color);\n",
              "    box-shadow: none;\n",
              "  }\n",
              "\n",
              "  .colab-df-spinner {\n",
              "    border: 2px solid var(--fill-color);\n",
              "    border-color: transparent;\n",
              "    border-bottom-color: var(--fill-color);\n",
              "    animation:\n",
              "      spin 1s steps(1) infinite;\n",
              "  }\n",
              "\n",
              "  @keyframes spin {\n",
              "    0% {\n",
              "      border-color: transparent;\n",
              "      border-bottom-color: var(--fill-color);\n",
              "      border-left-color: var(--fill-color);\n",
              "    }\n",
              "    20% {\n",
              "      border-color: transparent;\n",
              "      border-left-color: var(--fill-color);\n",
              "      border-top-color: var(--fill-color);\n",
              "    }\n",
              "    30% {\n",
              "      border-color: transparent;\n",
              "      border-left-color: var(--fill-color);\n",
              "      border-top-color: var(--fill-color);\n",
              "      border-right-color: var(--fill-color);\n",
              "    }\n",
              "    40% {\n",
              "      border-color: transparent;\n",
              "      border-right-color: var(--fill-color);\n",
              "      border-top-color: var(--fill-color);\n",
              "    }\n",
              "    60% {\n",
              "      border-color: transparent;\n",
              "      border-right-color: var(--fill-color);\n",
              "    }\n",
              "    80% {\n",
              "      border-color: transparent;\n",
              "      border-right-color: var(--fill-color);\n",
              "      border-bottom-color: var(--fill-color);\n",
              "    }\n",
              "    90% {\n",
              "      border-color: transparent;\n",
              "      border-bottom-color: var(--fill-color);\n",
              "    }\n",
              "  }\n",
              "</style>\n",
              "\n",
              "  <script>\n",
              "    async function quickchart(key) {\n",
              "      const quickchartButtonEl =\n",
              "        document.querySelector('#' + key + ' button');\n",
              "      quickchartButtonEl.disabled = true;  // To prevent multiple clicks.\n",
              "      quickchartButtonEl.classList.add('colab-df-spinner');\n",
              "      try {\n",
              "        const charts = await google.colab.kernel.invokeFunction(\n",
              "            'suggestCharts', [key], {});\n",
              "      } catch (error) {\n",
              "        console.error('Error during call to suggestCharts:', error);\n",
              "      }\n",
              "      quickchartButtonEl.classList.remove('colab-df-spinner');\n",
              "      quickchartButtonEl.classList.add('colab-df-quickchart-complete');\n",
              "    }\n",
              "    (() => {\n",
              "      let quickchartButtonEl =\n",
              "        document.querySelector('#df-01083337-b4f3-4aa7-9308-110fc1066c9c button');\n",
              "      quickchartButtonEl.style.display =\n",
              "        google.colab.kernel.accessAllowed ? 'block' : 'none';\n",
              "    })();\n",
              "  </script>\n",
              "</div>\n",
              "\n",
              "  <div id=\"id_afd45686-c3fd-47c7-999a-ba89ea00ae4c\">\n",
              "    <style>\n",
              "      .colab-df-generate {\n",
              "        background-color: #E8F0FE;\n",
              "        border: none;\n",
              "        border-radius: 50%;\n",
              "        cursor: pointer;\n",
              "        display: none;\n",
              "        fill: #1967D2;\n",
              "        height: 32px;\n",
              "        padding: 0 0 0 0;\n",
              "        width: 32px;\n",
              "      }\n",
              "\n",
              "      .colab-df-generate:hover {\n",
              "        background-color: #E2EBFA;\n",
              "        box-shadow: 0px 1px 2px rgba(60, 64, 67, 0.3), 0px 1px 3px 1px rgba(60, 64, 67, 0.15);\n",
              "        fill: #174EA6;\n",
              "      }\n",
              "\n",
              "      [theme=dark] .colab-df-generate {\n",
              "        background-color: #3B4455;\n",
              "        fill: #D2E3FC;\n",
              "      }\n",
              "\n",
              "      [theme=dark] .colab-df-generate:hover {\n",
              "        background-color: #434B5C;\n",
              "        box-shadow: 0px 1px 3px 1px rgba(0, 0, 0, 0.15);\n",
              "        filter: drop-shadow(0px 1px 2px rgba(0, 0, 0, 0.3));\n",
              "        fill: #FFFFFF;\n",
              "      }\n",
              "    </style>\n",
              "    <button class=\"colab-df-generate\" onclick=\"generateWithVariable('df')\"\n",
              "            title=\"Generate code using this dataframe.\"\n",
              "            style=\"display:none;\">\n",
              "\n",
              "  <svg xmlns=\"http://www.w3.org/2000/svg\" height=\"24px\"viewBox=\"0 0 24 24\"\n",
              "       width=\"24px\">\n",
              "    <path d=\"M7,19H8.4L18.45,9,17,7.55,7,17.6ZM5,21V16.75L18.45,3.32a2,2,0,0,1,2.83,0l1.4,1.43a1.91,1.91,0,0,1,.58,1.4,1.91,1.91,0,0,1-.58,1.4L9.25,21ZM18.45,9,17,7.55Zm-12,3A5.31,5.31,0,0,0,4.9,8.1,5.31,5.31,0,0,0,1,6.5,5.31,5.31,0,0,0,4.9,4.9,5.31,5.31,0,0,0,6.5,1,5.31,5.31,0,0,0,8.1,4.9,5.31,5.31,0,0,0,12,6.5,5.46,5.46,0,0,0,6.5,12Z\"/>\n",
              "  </svg>\n",
              "    </button>\n",
              "    <script>\n",
              "      (() => {\n",
              "      const buttonEl =\n",
              "        document.querySelector('#id_afd45686-c3fd-47c7-999a-ba89ea00ae4c button.colab-df-generate');\n",
              "      buttonEl.style.display =\n",
              "        google.colab.kernel.accessAllowed ? 'block' : 'none';\n",
              "\n",
              "      buttonEl.onclick = () => {\n",
              "        google.colab.notebook.generateWithVariable('df');\n",
              "      }\n",
              "      })();\n",
              "    </script>\n",
              "  </div>\n",
              "\n",
              "    </div>\n",
              "  </div>\n"
            ],
            "application/vnd.google.colaboratory.intrinsic+json": {
              "type": "dataframe",
              "variable_name": "df",
              "summary": "{\n  \"name\": \"df\",\n  \"rows\": 3,\n  \"fields\": [\n    {\n      \"column\": \"embeddings\",\n      \"properties\": {\n        \"dtype\": \"object\",\n        \"semantic_type\": \"\",\n        \"description\": \"\"\n      }\n    },\n    {\n      \"column\": \"documents\",\n      \"properties\": {\n        \"dtype\": \"string\",\n        \"num_unique_values\": 3,\n        \"samples\": [\n          \"This document is the Apollo 11 Flight Plan, outlining the mission's operations and crew activities to achieve the G Type Mission Lunar Landing objectives.  It uses trajectory parameters for a July 16, 1969 launch.  Changes to the Flight Plan must be submitted to the Crew Procedures Control Board (CPCB) for review and approval.  Contact Mr. W. J. North for distribution list updates. \\n\",\n          \"This document outlines ground rules and assumptions for an EPS analysis. It covers battery usage, S-band equipment operation, rendezvous radar, primary navigation and guidance subsystem, and forward window heaters. \\n\",\n          \"This document outlines the Apollo 11 mission launch and lunar orbit insertion (LOI) phases. Key events include: launch at 9:32 EDT on July 16, 1969, Earth orbit insertion at 11 min. 43 sec., translunar injection (TLI) at 2:44:26 GET, transposition, docking and LM ejection, separation from SIVB and an evasive maneuver, SIVB propulsive venting, cislunar navigation sightings, and four midcourse corrections. \\n\"\n        ],\n        \"semantic_type\": \"\",\n        \"description\": \"\"\n      }\n    }\n  ]\n}"
            }
          },
          "metadata": {},
          "execution_count": 17
        }
      ]
    },
    {
      "cell_type": "markdown",
      "source": [
        "You should see a column called `embeddings` with what are seemingly random values, but these values are actually high-dimensional vectors that represent the semantic meaning of your summaries."
      ],
      "metadata": {
        "id": "grqxGxZL5NhR"
      }
    },
    {
      "cell_type": "markdown",
      "source": [
        "Now let's actually try querying our information. We'll test a simple example like getting some file that has to do with the Apollo 11 Flight Plan."
      ],
      "metadata": {
        "id": "NFtUbwH255EO"
      }
    },
    {
      "cell_type": "code",
      "source": [
        "def get_relevant_files(query, db):\n",
        "  results = db.query(query_texts=[query], n_results=3)\n",
        "  return results[\"ids\"][0]"
      ],
      "metadata": {
        "id": "Tv_AaE-b5iHx"
      },
      "execution_count": 18,
      "outputs": []
    },
    {
      "cell_type": "code",
      "source": [
        "files = get_relevant_files(\"Apollo 11 Flight Plan\", text_db)\n",
        "print(files)"
      ],
      "metadata": {
        "id": "SusGynR_6PRP",
        "colab": {
          "base_uri": "https://localhost:8080/",
          "height": 34
        },
        "outputId": "65bdb68f-5e9e-4fe7-bae9-44bc5ed0e098"
      },
      "execution_count": 19,
      "outputs": [
        {
          "output_type": "stream",
          "name": "stdout",
          "text": [
            "['0', '2', '1']\n"
          ]
        }
      ]
    },
    {
      "cell_type": "markdown",
      "source": [
        "You should expect to see something like `['1', '0', '2']`. This means that the first entry in the `text_db` is most similar. If you look above at our `pd.DataFrame` output, the document with id 1 is the document about the Apollo 11 Flight Plan, so this is working as we expected!"
      ],
      "metadata": {
        "id": "qP0aOcL666DQ"
      }
    },
    {
      "cell_type": "markdown",
      "source": [
        "### Video and Audio\n",
        "\n",
        "Congrats! You've successfully built a working RAG for text. Now, let's extend this concept to Video and Audio, and build out some more complex queries. We'll begin by generalizing the above summary creation function to all sorts of modalities."
      ],
      "metadata": {
        "id": "roy1qlV57T6Q"
      }
    },
    {
      "cell_type": "code",
      "execution_count": 20,
      "metadata": {
        "id": "-WcSfaRubQsE"
      },
      "outputs": [],
      "source": [
        "def create_summary(modality):\n",
        "  path = data_dir / modality\n",
        "\n",
        "  summary_prompt = f\"\"\"You are an assistant tailored for summarizing {modality} for retrieval.\n",
        "  These summaries will be turned into vector embeddings and used to retrieve the raw {modality}.\n",
        "  Give a concise summary of the {modality} that is well optimized for retrieval. Here is the {modality}.\"\"\"\n",
        "\n",
        "  files = []\n",
        "  summaries = []\n",
        "\n",
        "  for f in path.glob(\"*\"):\n",
        "    if f.is_dir() or f.name.startswith('.'):\n",
        "      continue\n",
        "    print(f)\n",
        "\n",
        "    if modality == \"text\":\n",
        "      file = Image.open(f)\n",
        "      response = model.generate_content([summary_prompt, pytesseract.image_to_string(file)])\n",
        "\n",
        "    else:\n",
        "      file = genai.upload_file(f)\n",
        "\n",
        "      while file.state.name == \"PROCESSING\":\n",
        "        print(\"Waiting for video file upload...\\n\", end='')\n",
        "        time.sleep(5)\n",
        "        file = genai.get_file(file.name)\n",
        "\n",
        "      response = model.generate_content([summary_prompt, file])\n",
        "\n",
        "    files.append(file)\n",
        "    summaries.append(response.text)\n",
        "\n",
        "  return files, summaries"
      ]
    },
    {
      "cell_type": "markdown",
      "source": [
        "Now, we will create a folder with all of our data of different modalities. In particular, the first 5 are audio files, next 3 are text files, and final 6 are video files."
      ],
      "metadata": {
        "id": "W9L-FAQz-UFO"
      }
    },
    {
      "cell_type": "code",
      "execution_count": 21,
      "metadata": {
        "id": "wkwbUFxBWV-V",
        "colab": {
          "base_uri": "https://localhost:8080/",
          "height": 364
        },
        "outputId": "9ba0b581-4936-448a-8698-b0f6fe5e7d93"
      },
      "outputs": [
        {
          "output_type": "stream",
          "name": "stdout",
          "text": [
            "resources/audio/Apollo11OnboardAudioHighlightClip3.mp3\n",
            "resources/audio/Apollo11OnboardAudioHighlightClip2.mp3\n",
            "resources/audio/Apollo11OnboardAudioHighlightClip5.mp3\n",
            "resources/audio/Apollo11OnboardAudioHighlightClip4.mp3\n",
            "resources/audio/Apollo11OnboardAudioHighlightClip1.mp3\n",
            "resources/text/images-020.jpg\n",
            "resources/text/images-333.jpg\n",
            "resources/text/images-023.jpg\n",
            "resources/video/BuzzDescendsCompilation.mov\n",
            "Waiting for video file upload...\n",
            "resources/video/Apollo11Intro.mov\n",
            "Waiting for video file upload...\n",
            "resources/video/Apollo11MoonwalkMontage.mov\n",
            "Waiting for video file upload...\n",
            "resources/video/Apollo11PlaqueComparison.mov\n",
            "Waiting for video file upload...\n",
            "resources/video/OneSmallStepCompilation.mov\n",
            "Waiting for video file upload...\n",
            "resources/video/RaisingTheAmericanFlag.mov\n",
            "Waiting for video file upload...\n"
          ]
        }
      ],
      "source": [
        "all_files = []\n",
        "all_summaries = []\n",
        "\n",
        "for modality_type in [\"audio\", \"text\", \"video\"]:\n",
        "  files, summaries = create_summary(modality_type)\n",
        "  all_files.extend(files)\n",
        "  all_summaries.extend(summaries)"
      ]
    },
    {
      "cell_type": "code",
      "execution_count": 22,
      "metadata": {
        "id": "Po7c72aFuHMt"
      },
      "outputs": [],
      "source": [
        "db = create_chroma_db(all_summaries, \"nasa\")"
      ]
    },
    {
      "cell_type": "markdown",
      "source": [
        "Again, ensure that the embeddings were generated. Notice that now, we have audio, video, and text data."
      ],
      "metadata": {
        "id": "iHvVQxOR96Gr"
      }
    },
    {
      "cell_type": "code",
      "execution_count": 23,
      "metadata": {
        "id": "d6qkxWbWuHMt",
        "colab": {
          "base_uri": "https://localhost:8080/",
          "height": 363
        },
        "outputId": "4a570122-7269-40fd-c39b-cfb4182bce88"
      },
      "outputs": [
        {
          "output_type": "execute_result",
          "data": {
            "text/plain": [
              "                                          embeddings  \\\n",
              "0  [0.043420735746622086, -0.032168611884117126, ...   \n",
              "1  [0.07031884044408798, -0.01165339071303606, -0...   \n",
              "2  [0.01251338329166174, -0.018983716145157814, -...   \n",
              "3  [0.033819299191236496, -0.005007217638194561, ...   \n",
              "4  [0.023345697671175003, -0.015683135017752647, ...   \n",
              "5  [0.04685447737574577, -0.013304195366799831, -...   \n",
              "6  [0.02972055785357952, -0.0047592585906386375, ...   \n",
              "7  [0.022077776491642, -0.0004612583725247532, 0....   \n",
              "8  [0.011432270519435406, 0.009073207154870033, 0...   \n",
              "9  [0.07731004804372787, -0.0017914429772645235, ...   \n",
              "\n",
              "                                           documents  \n",
              "0  A group of astronauts are discussing their mis...  \n",
              "1  The audio is a conversation between two people...  \n",
              "2  Buzz Aldrin describes the lunar surface from t...  \n",
              "3  Apollo 11 astronauts Buzz Aldrin and Neil Arms...  \n",
              "4  Neil Armstrong takes his first step on the moo...  \n",
              "5  A comparison of two versions of the Apollo 11 ...  \n",
              "6  Two people are having a conversation about fli...  \n",
              "7  Aircraft pilots discussing flight plan, weathe...  \n",
              "8  Two people are discussing flying a plane. They...  \n",
              "9  This Flight Plan outlines the Apollo 11 missio...  "
            ],
            "text/html": [
              "\n",
              "  <div id=\"df-c102c5ce-030f-4fe4-835d-38add47cb1a2\" class=\"colab-df-container\">\n",
              "    <div>\n",
              "<style scoped>\n",
              "    .dataframe tbody tr th:only-of-type {\n",
              "        vertical-align: middle;\n",
              "    }\n",
              "\n",
              "    .dataframe tbody tr th {\n",
              "        vertical-align: top;\n",
              "    }\n",
              "\n",
              "    .dataframe thead th {\n",
              "        text-align: right;\n",
              "    }\n",
              "</style>\n",
              "<table border=\"1\" class=\"dataframe\">\n",
              "  <thead>\n",
              "    <tr style=\"text-align: right;\">\n",
              "      <th></th>\n",
              "      <th>embeddings</th>\n",
              "      <th>documents</th>\n",
              "    </tr>\n",
              "  </thead>\n",
              "  <tbody>\n",
              "    <tr>\n",
              "      <th>0</th>\n",
              "      <td>[0.043420735746622086, -0.032168611884117126, ...</td>\n",
              "      <td>A group of astronauts are discussing their mis...</td>\n",
              "    </tr>\n",
              "    <tr>\n",
              "      <th>1</th>\n",
              "      <td>[0.07031884044408798, -0.01165339071303606, -0...</td>\n",
              "      <td>The audio is a conversation between two people...</td>\n",
              "    </tr>\n",
              "    <tr>\n",
              "      <th>2</th>\n",
              "      <td>[0.01251338329166174, -0.018983716145157814, -...</td>\n",
              "      <td>Buzz Aldrin describes the lunar surface from t...</td>\n",
              "    </tr>\n",
              "    <tr>\n",
              "      <th>3</th>\n",
              "      <td>[0.033819299191236496, -0.005007217638194561, ...</td>\n",
              "      <td>Apollo 11 astronauts Buzz Aldrin and Neil Arms...</td>\n",
              "    </tr>\n",
              "    <tr>\n",
              "      <th>4</th>\n",
              "      <td>[0.023345697671175003, -0.015683135017752647, ...</td>\n",
              "      <td>Neil Armstrong takes his first step on the moo...</td>\n",
              "    </tr>\n",
              "    <tr>\n",
              "      <th>5</th>\n",
              "      <td>[0.04685447737574577, -0.013304195366799831, -...</td>\n",
              "      <td>A comparison of two versions of the Apollo 11 ...</td>\n",
              "    </tr>\n",
              "    <tr>\n",
              "      <th>6</th>\n",
              "      <td>[0.02972055785357952, -0.0047592585906386375, ...</td>\n",
              "      <td>Two people are having a conversation about fli...</td>\n",
              "    </tr>\n",
              "    <tr>\n",
              "      <th>7</th>\n",
              "      <td>[0.022077776491642, -0.0004612583725247532, 0....</td>\n",
              "      <td>Aircraft pilots discussing flight plan, weathe...</td>\n",
              "    </tr>\n",
              "    <tr>\n",
              "      <th>8</th>\n",
              "      <td>[0.011432270519435406, 0.009073207154870033, 0...</td>\n",
              "      <td>Two people are discussing flying a plane. They...</td>\n",
              "    </tr>\n",
              "    <tr>\n",
              "      <th>9</th>\n",
              "      <td>[0.07731004804372787, -0.0017914429772645235, ...</td>\n",
              "      <td>This Flight Plan outlines the Apollo 11 missio...</td>\n",
              "    </tr>\n",
              "  </tbody>\n",
              "</table>\n",
              "</div>\n",
              "    <div class=\"colab-df-buttons\">\n",
              "\n",
              "  <div class=\"colab-df-container\">\n",
              "    <button class=\"colab-df-convert\" onclick=\"convertToInteractive('df-c102c5ce-030f-4fe4-835d-38add47cb1a2')\"\n",
              "            title=\"Convert this dataframe to an interactive table.\"\n",
              "            style=\"display:none;\">\n",
              "\n",
              "  <svg xmlns=\"http://www.w3.org/2000/svg\" height=\"24px\" viewBox=\"0 -960 960 960\">\n",
              "    <path d=\"M120-120v-720h720v720H120Zm60-500h600v-160H180v160Zm220 220h160v-160H400v160Zm0 220h160v-160H400v160ZM180-400h160v-160H180v160Zm440 0h160v-160H620v160ZM180-180h160v-160H180v160Zm440 0h160v-160H620v160Z\"/>\n",
              "  </svg>\n",
              "    </button>\n",
              "\n",
              "  <style>\n",
              "    .colab-df-container {\n",
              "      display:flex;\n",
              "      gap: 12px;\n",
              "    }\n",
              "\n",
              "    .colab-df-convert {\n",
              "      background-color: #E8F0FE;\n",
              "      border: none;\n",
              "      border-radius: 50%;\n",
              "      cursor: pointer;\n",
              "      display: none;\n",
              "      fill: #1967D2;\n",
              "      height: 32px;\n",
              "      padding: 0 0 0 0;\n",
              "      width: 32px;\n",
              "    }\n",
              "\n",
              "    .colab-df-convert:hover {\n",
              "      background-color: #E2EBFA;\n",
              "      box-shadow: 0px 1px 2px rgba(60, 64, 67, 0.3), 0px 1px 3px 1px rgba(60, 64, 67, 0.15);\n",
              "      fill: #174EA6;\n",
              "    }\n",
              "\n",
              "    .colab-df-buttons div {\n",
              "      margin-bottom: 4px;\n",
              "    }\n",
              "\n",
              "    [theme=dark] .colab-df-convert {\n",
              "      background-color: #3B4455;\n",
              "      fill: #D2E3FC;\n",
              "    }\n",
              "\n",
              "    [theme=dark] .colab-df-convert:hover {\n",
              "      background-color: #434B5C;\n",
              "      box-shadow: 0px 1px 3px 1px rgba(0, 0, 0, 0.15);\n",
              "      filter: drop-shadow(0px 1px 2px rgba(0, 0, 0, 0.3));\n",
              "      fill: #FFFFFF;\n",
              "    }\n",
              "  </style>\n",
              "\n",
              "    <script>\n",
              "      const buttonEl =\n",
              "        document.querySelector('#df-c102c5ce-030f-4fe4-835d-38add47cb1a2 button.colab-df-convert');\n",
              "      buttonEl.style.display =\n",
              "        google.colab.kernel.accessAllowed ? 'block' : 'none';\n",
              "\n",
              "      async function convertToInteractive(key) {\n",
              "        const element = document.querySelector('#df-c102c5ce-030f-4fe4-835d-38add47cb1a2');\n",
              "        const dataTable =\n",
              "          await google.colab.kernel.invokeFunction('convertToInteractive',\n",
              "                                                    [key], {});\n",
              "        if (!dataTable) return;\n",
              "\n",
              "        const docLinkHtml = 'Like what you see? Visit the ' +\n",
              "          '<a target=\"_blank\" href=https://colab.research.google.com/notebooks/data_table.ipynb>data table notebook</a>'\n",
              "          + ' to learn more about interactive tables.';\n",
              "        element.innerHTML = '';\n",
              "        dataTable['output_type'] = 'display_data';\n",
              "        await google.colab.output.renderOutput(dataTable, element);\n",
              "        const docLink = document.createElement('div');\n",
              "        docLink.innerHTML = docLinkHtml;\n",
              "        element.appendChild(docLink);\n",
              "      }\n",
              "    </script>\n",
              "  </div>\n",
              "\n",
              "\n",
              "<div id=\"df-524430e1-41ee-4cc5-b61c-9e4c2b9e879e\">\n",
              "  <button class=\"colab-df-quickchart\" onclick=\"quickchart('df-524430e1-41ee-4cc5-b61c-9e4c2b9e879e')\"\n",
              "            title=\"Suggest charts\"\n",
              "            style=\"display:none;\">\n",
              "\n",
              "<svg xmlns=\"http://www.w3.org/2000/svg\" height=\"24px\"viewBox=\"0 0 24 24\"\n",
              "     width=\"24px\">\n",
              "    <g>\n",
              "        <path d=\"M19 3H5c-1.1 0-2 .9-2 2v14c0 1.1.9 2 2 2h14c1.1 0 2-.9 2-2V5c0-1.1-.9-2-2-2zM9 17H7v-7h2v7zm4 0h-2V7h2v10zm4 0h-2v-4h2v4z\"/>\n",
              "    </g>\n",
              "</svg>\n",
              "  </button>\n",
              "\n",
              "<style>\n",
              "  .colab-df-quickchart {\n",
              "      --bg-color: #E8F0FE;\n",
              "      --fill-color: #1967D2;\n",
              "      --hover-bg-color: #E2EBFA;\n",
              "      --hover-fill-color: #174EA6;\n",
              "      --disabled-fill-color: #AAA;\n",
              "      --disabled-bg-color: #DDD;\n",
              "  }\n",
              "\n",
              "  [theme=dark] .colab-df-quickchart {\n",
              "      --bg-color: #3B4455;\n",
              "      --fill-color: #D2E3FC;\n",
              "      --hover-bg-color: #434B5C;\n",
              "      --hover-fill-color: #FFFFFF;\n",
              "      --disabled-bg-color: #3B4455;\n",
              "      --disabled-fill-color: #666;\n",
              "  }\n",
              "\n",
              "  .colab-df-quickchart {\n",
              "    background-color: var(--bg-color);\n",
              "    border: none;\n",
              "    border-radius: 50%;\n",
              "    cursor: pointer;\n",
              "    display: none;\n",
              "    fill: var(--fill-color);\n",
              "    height: 32px;\n",
              "    padding: 0;\n",
              "    width: 32px;\n",
              "  }\n",
              "\n",
              "  .colab-df-quickchart:hover {\n",
              "    background-color: var(--hover-bg-color);\n",
              "    box-shadow: 0 1px 2px rgba(60, 64, 67, 0.3), 0 1px 3px 1px rgba(60, 64, 67, 0.15);\n",
              "    fill: var(--button-hover-fill-color);\n",
              "  }\n",
              "\n",
              "  .colab-df-quickchart-complete:disabled,\n",
              "  .colab-df-quickchart-complete:disabled:hover {\n",
              "    background-color: var(--disabled-bg-color);\n",
              "    fill: var(--disabled-fill-color);\n",
              "    box-shadow: none;\n",
              "  }\n",
              "\n",
              "  .colab-df-spinner {\n",
              "    border: 2px solid var(--fill-color);\n",
              "    border-color: transparent;\n",
              "    border-bottom-color: var(--fill-color);\n",
              "    animation:\n",
              "      spin 1s steps(1) infinite;\n",
              "  }\n",
              "\n",
              "  @keyframes spin {\n",
              "    0% {\n",
              "      border-color: transparent;\n",
              "      border-bottom-color: var(--fill-color);\n",
              "      border-left-color: var(--fill-color);\n",
              "    }\n",
              "    20% {\n",
              "      border-color: transparent;\n",
              "      border-left-color: var(--fill-color);\n",
              "      border-top-color: var(--fill-color);\n",
              "    }\n",
              "    30% {\n",
              "      border-color: transparent;\n",
              "      border-left-color: var(--fill-color);\n",
              "      border-top-color: var(--fill-color);\n",
              "      border-right-color: var(--fill-color);\n",
              "    }\n",
              "    40% {\n",
              "      border-color: transparent;\n",
              "      border-right-color: var(--fill-color);\n",
              "      border-top-color: var(--fill-color);\n",
              "    }\n",
              "    60% {\n",
              "      border-color: transparent;\n",
              "      border-right-color: var(--fill-color);\n",
              "    }\n",
              "    80% {\n",
              "      border-color: transparent;\n",
              "      border-right-color: var(--fill-color);\n",
              "      border-bottom-color: var(--fill-color);\n",
              "    }\n",
              "    90% {\n",
              "      border-color: transparent;\n",
              "      border-bottom-color: var(--fill-color);\n",
              "    }\n",
              "  }\n",
              "</style>\n",
              "\n",
              "  <script>\n",
              "    async function quickchart(key) {\n",
              "      const quickchartButtonEl =\n",
              "        document.querySelector('#' + key + ' button');\n",
              "      quickchartButtonEl.disabled = true;  // To prevent multiple clicks.\n",
              "      quickchartButtonEl.classList.add('colab-df-spinner');\n",
              "      try {\n",
              "        const charts = await google.colab.kernel.invokeFunction(\n",
              "            'suggestCharts', [key], {});\n",
              "      } catch (error) {\n",
              "        console.error('Error during call to suggestCharts:', error);\n",
              "      }\n",
              "      quickchartButtonEl.classList.remove('colab-df-spinner');\n",
              "      quickchartButtonEl.classList.add('colab-df-quickchart-complete');\n",
              "    }\n",
              "    (() => {\n",
              "      let quickchartButtonEl =\n",
              "        document.querySelector('#df-524430e1-41ee-4cc5-b61c-9e4c2b9e879e button');\n",
              "      quickchartButtonEl.style.display =\n",
              "        google.colab.kernel.accessAllowed ? 'block' : 'none';\n",
              "    })();\n",
              "  </script>\n",
              "</div>\n",
              "\n",
              "  <div id=\"id_1be75352-3f4c-4f79-9ade-fe40b0e24347\">\n",
              "    <style>\n",
              "      .colab-df-generate {\n",
              "        background-color: #E8F0FE;\n",
              "        border: none;\n",
              "        border-radius: 50%;\n",
              "        cursor: pointer;\n",
              "        display: none;\n",
              "        fill: #1967D2;\n",
              "        height: 32px;\n",
              "        padding: 0 0 0 0;\n",
              "        width: 32px;\n",
              "      }\n",
              "\n",
              "      .colab-df-generate:hover {\n",
              "        background-color: #E2EBFA;\n",
              "        box-shadow: 0px 1px 2px rgba(60, 64, 67, 0.3), 0px 1px 3px 1px rgba(60, 64, 67, 0.15);\n",
              "        fill: #174EA6;\n",
              "      }\n",
              "\n",
              "      [theme=dark] .colab-df-generate {\n",
              "        background-color: #3B4455;\n",
              "        fill: #D2E3FC;\n",
              "      }\n",
              "\n",
              "      [theme=dark] .colab-df-generate:hover {\n",
              "        background-color: #434B5C;\n",
              "        box-shadow: 0px 1px 3px 1px rgba(0, 0, 0, 0.15);\n",
              "        filter: drop-shadow(0px 1px 2px rgba(0, 0, 0, 0.3));\n",
              "        fill: #FFFFFF;\n",
              "      }\n",
              "    </style>\n",
              "    <button class=\"colab-df-generate\" onclick=\"generateWithVariable('df')\"\n",
              "            title=\"Generate code using this dataframe.\"\n",
              "            style=\"display:none;\">\n",
              "\n",
              "  <svg xmlns=\"http://www.w3.org/2000/svg\" height=\"24px\"viewBox=\"0 0 24 24\"\n",
              "       width=\"24px\">\n",
              "    <path d=\"M7,19H8.4L18.45,9,17,7.55,7,17.6ZM5,21V16.75L18.45,3.32a2,2,0,0,1,2.83,0l1.4,1.43a1.91,1.91,0,0,1,.58,1.4,1.91,1.91,0,0,1-.58,1.4L9.25,21ZM18.45,9,17,7.55Zm-12,3A5.31,5.31,0,0,0,4.9,8.1,5.31,5.31,0,0,0,1,6.5,5.31,5.31,0,0,0,4.9,4.9,5.31,5.31,0,0,0,6.5,1,5.31,5.31,0,0,0,8.1,4.9,5.31,5.31,0,0,0,12,6.5,5.46,5.46,0,0,0,6.5,12Z\"/>\n",
              "  </svg>\n",
              "    </button>\n",
              "    <script>\n",
              "      (() => {\n",
              "      const buttonEl =\n",
              "        document.querySelector('#id_1be75352-3f4c-4f79-9ade-fe40b0e24347 button.colab-df-generate');\n",
              "      buttonEl.style.display =\n",
              "        google.colab.kernel.accessAllowed ? 'block' : 'none';\n",
              "\n",
              "      buttonEl.onclick = () => {\n",
              "        google.colab.notebook.generateWithVariable('df');\n",
              "      }\n",
              "      })();\n",
              "    </script>\n",
              "  </div>\n",
              "\n",
              "    </div>\n",
              "  </div>\n"
            ],
            "application/vnd.google.colaboratory.intrinsic+json": {
              "type": "dataframe",
              "variable_name": "df",
              "summary": "{\n  \"name\": \"df\",\n  \"rows\": 10,\n  \"fields\": [\n    {\n      \"column\": \"embeddings\",\n      \"properties\": {\n        \"dtype\": \"object\",\n        \"semantic_type\": \"\",\n        \"description\": \"\"\n      }\n    },\n    {\n      \"column\": \"documents\",\n      \"properties\": {\n        \"dtype\": \"string\",\n        \"num_unique_values\": 10,\n        \"samples\": [\n          \"Two people are discussing flying a plane. They are talking about the monitor, camera and attitude reference system. They are also discussing the checklist and how to get more information on the plane. \",\n          \"The audio is a conversation between two people about the performance of a spacecraft. They discuss chamber pressure, pitch trim, yaw trim, and other technical details.  The speakers also discuss the Delta-V switches and the spacecraft's current trajectory. \",\n          \"A comparison of two versions of the Apollo 11 moon landing video. The left side shows the original footage from the NASA archive. The right side shows a restoration of the video from 2009. In the video, astronauts plant the US flag on the moon. \"\n        ],\n        \"semantic_type\": \"\",\n        \"description\": \"\"\n      }\n    }\n  ]\n}"
            }
          },
          "metadata": {},
          "execution_count": 23
        }
      ],
      "source": [
        "data = {\n",
        "    'embeddings': db.peek()['embeddings'],\n",
        "    'documents': db.peek()['documents']\n",
        "}\n",
        "\n",
        "df = pd.DataFrame.from_dict(data, orient='index').transpose()\n",
        "df"
      ]
    },
    {
      "cell_type": "code",
      "execution_count": 24,
      "metadata": {
        "id": "AO7ANSetXBKH",
        "colab": {
          "base_uri": "https://localhost:8080/",
          "height": 34
        },
        "outputId": "afdb5ff8-b2df-4922-e915-2c268a50f622"
      },
      "outputs": [
        {
          "output_type": "stream",
          "name": "stdout",
          "text": [
            "['1', '5', '4']\n"
          ]
        }
      ],
      "source": [
        "files = get_relevant_files(\"communication with Mission Control\", db)\n",
        "print(files)"
      ]
    },
    {
      "cell_type": "markdown",
      "source": [
        "Can we do more than just return the most relevant file? Yes we can! We can ask Gemini to return a response to the query using the files it thinks are most relevant, provide an answer and tell us what files it used! This is really exciting, and has vast applications in many industries."
      ],
      "metadata": {
        "id": "vOSdVDCw-pgR"
      }
    },
    {
      "cell_type": "code",
      "execution_count": 25,
      "metadata": {
        "id": "55Jd20kduHMt"
      },
      "outputs": [],
      "source": [
        "def query_rag(query, db):\n",
        "    files = get_relevant_files(query, db)\n",
        "    prompt = [all_files[int(f)] for f in files]\n",
        "    prompt.append(\"Generate a response to the query using the provided files. Here is the query.\")\n",
        "    prompt.append(query)\n",
        "    return model.generate_content(prompt).text, [all_file_names[int(f)] for f in files]"
      ]
    },
    {
      "cell_type": "code",
      "execution_count": 26,
      "metadata": {
        "id": "v-gfX1LfuHMt",
        "colab": {
          "base_uri": "https://localhost:8080/",
          "height": 89
        },
        "outputId": "d6765e34-c9d8-4fb2-d581-b97859b3eb72"
      },
      "outputs": [
        {
          "output_type": "stream",
          "name": "stdout",
          "text": [
            "Apollo 11 was the spaceflight that landed the first humans on the Moon.  Neil Armstrong and Buzz Aldrin landed their lunar module, the Eagle, on July 20, 1969, at 20:17:40 GMT.  Armstrong became the first person to walk on the lunar surface six hours later at 02:56 GMT on July 21, 1969, with Aldrin joining him about 20 minutes later.  They spent about two hours outside the module collecting lunar samples, planting the U.S. flag, and taking photographs before returning to the lunar module and preparing for their ascent to rendezvous with the command module, Columbia, piloted by Michael Collins.  Armstrong and Aldrin lifted off from the moon's surface at 17:54 GMT on July 21, 1969.  The mission concluded on July 24, 1969, when Columbia splashed down in the Pacific Ocean. \n",
            "\n",
            "['resources/audio/Apollo11OnboardAudioHighlightClip3.mp3', 'resources/text/images-333.jpg', 'resources/audio/Apollo11OnboardAudioHighlightClip1.mp3']\n"
          ]
        }
      ],
      "source": [
        "for response in query_rag(\"Explain what happened with the Apollo 11 Mission.\", db):\n",
        "    print(response)"
      ]
    },
    {
      "cell_type": "code",
      "execution_count": 27,
      "metadata": {
        "id": "k02GjIuEuHMt",
        "colab": {
          "base_uri": "https://localhost:8080/",
          "height": 141
        },
        "outputId": "443e2d92-1bd8-4884-eb0f-195b26084a72"
      },
      "outputs": [
        {
          "output_type": "stream",
          "name": "stdout",
          "text": [
            "After TLI, which places the spacecraft in a free lunar return trajectory, the following major events occur prior to LOI: transposition, docking and LM ejection, including SIVB photography. \n",
            "Separation from SIVB and a CSM evasive maneuver. \n",
            "SIVB propulsive venting of propellants (slingshot). \n",
            "Two series of P23 cislunar navigation sightings, star/earth horizon, consisting of five sets at 06:00 GET and five sets at 24:30 GET.\n",
            "Four midcourse corrections which take place at TLI + 9, TLI + 24, LOI - 22 and LOI - 5 hours with ΔV nominally zero. \n",
            "['resources/text/images-333.jpg', 'resources/video/RaisingTheAmericanFlag.mov', 'resources/video/BuzzDescendsCompilation.mov']\n"
          ]
        }
      ],
      "source": [
        "for response in query_rag(\"What happens at the Translunar Coast in the Mission Description?\", db):\n",
        "    print(response)"
      ]
    },
    {
      "cell_type": "code",
      "source": [
        "for response in query_rag(\"What happens at the Translunar Coast in the Mission Description?\", db):\n",
        "    print(response)"
      ],
      "metadata": {
        "id": "zcAsVIIGzsIr",
        "outputId": "5cac74de-9e05-43c1-e55c-3564e9a1a6b0",
        "colab": {
          "base_uri": "https://localhost:8080/",
          "height": 72
        }
      },
      "execution_count": 30,
      "outputs": [
        {
          "output_type": "stream",
          "name": "stdout",
          "text": [
            "The Translunar Coast takes place from 73:10 to 75:54 GET.  After TLI (the Translunar Injection burn), the spacecraft is on a free lunar return trajectory. The mission description details the major events that occur prior to LOI, including SIVB photography, separation of the SIVB, and a CSM evasive maneuver, SIVB propulsive venting of propellants, P23 cislunar navigation sightings, and four midcourse corrections. \n",
            "['resources/text/images-333.jpg', 'resources/video/RaisingTheAmericanFlag.mov', 'resources/video/BuzzDescendsCompilation.mov']\n"
          ]
        }
      ]
    },
    {
      "cell_type": "code",
      "source": [],
      "metadata": {
        "id": "gtqqlUzN6LdT"
      },
      "execution_count": null,
      "outputs": []
    }
  ],
  "metadata": {
    "colab": {
      "provenance": []
    },
    "kernelspec": {
      "display_name": "Python 3",
      "name": "python3"
    },
    "language_info": {
      "codemirror_mode": {
        "name": "ipython",
        "version": 3
      },
      "file_extension": ".py",
      "mimetype": "text/x-python",
      "name": "python",
      "nbconvert_exporter": "python",
      "pygments_lexer": "ipython3",
      "version": "3.11.8"
    }
  },
  "nbformat": 4,
  "nbformat_minor": 0
}